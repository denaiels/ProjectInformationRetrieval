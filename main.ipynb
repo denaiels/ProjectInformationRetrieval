{
 "cells": [
  {
   "cell_type": "markdown",
   "metadata": {},
   "source": [
    "<h1>Project Computer Vision Lecture</h1>\n",
    "<h2>Title: Movie Review Sentiment Analysis</h2>\n",
    "\n",
    "1. Daniel Santoso / 2201756506\n",
    "2. Boban Nathaniel Seputra / 2201762540\n",
    "3. Luwis Lim / 2201761771\n",
    "4. Steven Odolf Yuwono / 2201758045"
   ]
  },
  {
   "cell_type": "code",
   "execution_count": 1,
   "metadata": {},
   "outputs": [],
   "source": [
    "import pandas as pd\n",
    "import numpy as np\n",
    "\n",
    "from sklearn.feature_extraction.text import CountVectorizer\n",
    "from sklearn.model_selection import train_test_split\n",
    "from sklearn.metrics import accuracy_score\n",
    "from sklearn.svm import LinearSVC"
   ]
  },
  {
   "cell_type": "code",
   "execution_count": 2,
   "metadata": {},
   "outputs": [
    {
     "output_type": "stream",
     "name": "stdout",
     "text": [
      "False\n                                                  review sentiment\n0      One of the other reviewers has mentioned that ...  positive\n1      A wonderful little production. <br /><br />The...  positive\n2      I thought this was a wonderful way to spend ti...  positive\n3      Basically there's a family where a little boy ...  negative\n4      Petter Mattei's \"Love in the Time of Money\" is...  positive\n...                                                  ...       ...\n49995  I thought this movie did a down right good job...  positive\n49996  Bad plot, bad dialogue, bad acting, idiotic di...  negative\n49997  I am a Catholic taught in parochial elementary...  negative\n49998  I'm going to have to disagree with the previou...  negative\n49999  No one expects the Star Trek movies to be high...  negative\n\n[50000 rows x 2 columns]\n"
     ]
    }
   ],
   "source": [
    "df = pd.read_csv('IMDB Dataset.csv', delimiter=',')\n",
    "print(df.isnull().values.any())\n",
    "\n",
    "y = df.sentiment\n",
    "\n",
    "print(df)"
   ]
  },
  {
   "cell_type": "code",
   "execution_count": 3,
   "metadata": {},
   "outputs": [
    {
     "output_type": "stream",
     "name": "stdout",
     "text": [
      "                                                  review sentiment\n0      one of the other reviewers has mentioned that ...  positive\n1      a wonderful little production. <br /><br />the...  positive\n2      i thought this was a wonderful way to spend ti...  positive\n3      basically there's a family where a little boy ...  negative\n4      petter mattei's \"love in the time of money\" is...  positive\n...                                                  ...       ...\n49995  i thought this movie did a down right good job...  positive\n49996  bad plot, bad dialogue, bad acting, idiotic di...  negative\n49997  i am a catholic taught in parochial elementary...  negative\n49998  i'm going to have to disagree with the previou...  negative\n49999  no one expects the star trek movies to be high...  negative\n\n[50000 rows x 2 columns]\n"
     ]
    }
   ],
   "source": [
    "df['review'] = df['review'].str.lower()\n",
    "print(df)"
   ]
  },
  {
   "cell_type": "code",
   "execution_count": 4,
   "metadata": {},
   "outputs": [
    {
     "output_type": "stream",
     "name": "stdout",
     "text": [
      "                                                  review sentiment\n0      one of the other reviewers has mentioned that ...  positive\n1      a wonderful little production  the filming tec...  positive\n2      i thought this was a wonderful way to spend ti...  positive\n3      basically theres a family where a little boy j...  negative\n4      petter matteis love in the time of money is a ...  positive\n...                                                  ...       ...\n49995  i thought this movie did a down right good job...  positive\n49996  bad plot bad dialogue bad acting idiotic direc...  negative\n49997  i am a catholic taught in parochial elementary...  negative\n49998  im going to have to disagree with the previous...  negative\n49999  no one expects the star trek movies to be high...  negative\n\n[50000 rows x 2 columns]\n"
     ]
    }
   ],
   "source": [
    "# Remove numbers and punctuation\n",
    "\n",
    "import re\n",
    "\n",
    "REPLACE_NO_SPACE = re.compile(\"[.;:!\\'?,\\\"()\\[\\]]\")\n",
    "REPLACE_WITH_SPACE = re.compile(\"(<br\\s*/><br\\s*/>)|(\\-)|(\\/)\")\n",
    "\n",
    "def preprocess_reviews(reviews):\n",
    "    reviews = [REPLACE_NO_SPACE.sub(\"\", line.lower()) for line in reviews]\n",
    "    reviews = [REPLACE_WITH_SPACE.sub(\" \", line) for line in reviews]\n",
    "    \n",
    "    return reviews\n",
    "\n",
    "df['review'] = df['review'].apply(lambda x: re.sub(r\"\\d+\", \"\", x))\n",
    "df['review'] = preprocess_reviews(df['review'])\n",
    "print(df)"
   ]
  },
  {
   "cell_type": "code",
   "execution_count": 5,
   "metadata": {},
   "outputs": [
    {
     "output_type": "stream",
     "name": "stdout",
     "text": [
      "  (0, 35721)\t1\n",
      "  (0, 36300)\t1\n",
      "  (0, 36302)\t1\n",
      "  (0, 70717)\t1\n",
      "  (0, 71157)\t1\n",
      "  (0, 71326)\t1\n",
      "  (0, 87877)\t1\n",
      "  (0, 90556)\t1\n",
      "  (0, 90560)\t1\n",
      "  (0, 92056)\t1\n",
      "  (0, 92141)\t1\n",
      "  (0, 92492)\t1\n",
      "  (0, 92826)\t1\n",
      "  (0, 92907)\t1\n",
      "  (0, 99873)\t1\n",
      "  (0, 99926)\t1\n",
      "  (0, 164849)\t1\n",
      "  (0, 170063)\t1\n",
      "  (0, 170065)\t1\n",
      "  (0, 212164)\t1\n",
      "  (0, 224782)\t1\n",
      "  (0, 224784)\t1\n",
      "  (0, 240554)\t1\n",
      "  (0, 240578)\t1\n",
      "  (0, 259570)\t1\n",
      "  :\t:\n",
      "  (31999, 9218628)\t1\n",
      "  (31999, 9218675)\t1\n",
      "  (31999, 9353070)\t1\n",
      "  (31999, 9364347)\t1\n",
      "  (31999, 9364350)\t1\n",
      "  (31999, 9386020)\t1\n",
      "  (31999, 9386176)\t1\n",
      "  (31999, 9390058)\t1\n",
      "  (31999, 9390063)\t1\n",
      "  (31999, 9402763)\t1\n",
      "  (31999, 9402770)\t1\n",
      "  (31999, 9472208)\t1\n",
      "  (31999, 9477455)\t1\n",
      "  (31999, 9477456)\t1\n",
      "  (31999, 9484401)\t1\n",
      "  (31999, 9485119)\t1\n",
      "  (31999, 9485120)\t1\n",
      "  (31999, 9485409)\t1\n",
      "  (31999, 9485410)\t1\n",
      "  (31999, 9574955)\t1\n",
      "  (31999, 9575212)\t1\n",
      "  (31999, 9575213)\t1\n",
      "  (31999, 9611906)\t1\n",
      "  (31999, 9612477)\t1\n",
      "  (31999, 9612478)\t1\n",
      "45513    positive\n",
      "39582    positive\n",
      "23308    negative\n",
      "32027    positive\n",
      "9405     negative\n",
      "           ...   \n",
      "21558    positive\n",
      "47313    negative\n",
      "16714    negative\n",
      "43038    negative\n",
      "47470    positive\n",
      "Name: sentiment, Length: 32000, dtype: object\n",
      "  (0, 7552)\t1\n",
      "  (0, 35151)\t1\n",
      "  (0, 35153)\t1\n",
      "  (0, 66356)\t1\n",
      "  (0, 66586)\t1\n",
      "  (0, 66592)\t1\n",
      "  (0, 70717)\t1\n",
      "  (0, 74281)\t1\n",
      "  (0, 74284)\t1\n",
      "  (0, 80013)\t1\n",
      "  (0, 81955)\t1\n",
      "  (0, 81956)\t1\n",
      "  (0, 136699)\t1\n",
      "  (0, 136962)\t1\n",
      "  (0, 136964)\t1\n",
      "  (0, 212164)\t1\n",
      "  (0, 241009)\t1\n",
      "  (0, 241079)\t1\n",
      "  (0, 366684)\t1\n",
      "  (0, 392686)\t1\n",
      "  (0, 392722)\t1\n",
      "  (0, 437413)\t1\n",
      "  (0, 437443)\t1\n",
      "  (0, 439275)\t1\n",
      "  (0, 439283)\t1\n",
      "  :\t:\n",
      "  (7999, 9386020)\t1\n",
      "  (7999, 9386351)\t1\n",
      "  (7999, 9405754)\t1\n",
      "  (7999, 9405756)\t1\n",
      "  (7999, 9412288)\t1\n",
      "  (7999, 9412607)\t1\n",
      "  (7999, 9472208)\t1\n",
      "  (7999, 9472519)\t1\n",
      "  (7999, 9472779)\t1\n",
      "  (7999, 9500040)\t1\n",
      "  (7999, 9501361)\t1\n",
      "  (7999, 9501370)\t1\n",
      "  (7999, 9508844)\t1\n",
      "  (7999, 9512307)\t1\n",
      "  (7999, 9512387)\t1\n",
      "  (7999, 9555770)\t1\n",
      "  (7999, 9555849)\t1\n",
      "  (7999, 9555954)\t1\n",
      "  (7999, 9576979)\t1\n",
      "  (7999, 9590217)\t1\n",
      "  (7999, 9590528)\t1\n",
      "  (7999, 9595728)\t1\n",
      "  (7999, 9595777)\t1\n",
      "  (7999, 9596116)\t1\n",
      "  (7999, 9596201)\t1\n",
      "36828    negative\n",
      "46529    positive\n",
      "14145    negative\n",
      "27160    negative\n",
      "38655    positive\n",
      "           ...   \n",
      "32014    negative\n",
      "49332    positive\n",
      "14664    negative\n",
      "30187    positive\n",
      "18909    negative\n",
      "Name: sentiment, Length: 8000, dtype: object\n",
      "  (0, 7552)\t1\n",
      "  (0, 9209)\t1\n",
      "  (0, 9393)\t1\n",
      "  (0, 150440)\t1\n",
      "  (0, 150629)\t1\n",
      "  (0, 150878)\t1\n",
      "  (0, 212164)\t1\n",
      "  (0, 235170)\t1\n",
      "  (0, 235172)\t1\n",
      "  (0, 241643)\t1\n",
      "  (0, 241828)\t1\n",
      "  (0, 366684)\t1\n",
      "  (0, 505627)\t1\n",
      "  (0, 505742)\t1\n",
      "  (0, 556076)\t1\n",
      "  (0, 556168)\t1\n",
      "  (0, 580299)\t1\n",
      "  (0, 580572)\t1\n",
      "  (0, 587320)\t1\n",
      "  (0, 587323)\t1\n",
      "  (0, 608888)\t1\n",
      "  (0, 609010)\t1\n",
      "  (0, 609011)\t1\n",
      "  (0, 684474)\t1\n",
      "  (0, 722471)\t1\n",
      "  :\t:\n",
      "  (9999, 6988314)\t1\n",
      "  (9999, 6988348)\t1\n",
      "  (9999, 6988388)\t1\n",
      "  (9999, 7957712)\t1\n",
      "  (9999, 7957981)\t1\n",
      "  (9999, 7957991)\t1\n",
      "  (9999, 7972282)\t1\n",
      "  (9999, 7982289)\t1\n",
      "  (9999, 7982330)\t1\n",
      "  (9999, 8230438)\t1\n",
      "  (9999, 8261692)\t1\n",
      "  (9999, 8263239)\t1\n",
      "  (9999, 8542290)\t1\n",
      "  (9999, 8543386)\t1\n",
      "  (9999, 8543387)\t1\n",
      "  (9999, 8843726)\t1\n",
      "  (9999, 8843736)\t1\n",
      "  (9999, 8986039)\t1\n",
      "  (9999, 9004107)\t1\n",
      "  (9999, 9004112)\t1\n",
      "  (9999, 9039136)\t1\n",
      "  (9999, 9039151)\t1\n",
      "  (9999, 9098462)\t1\n",
      "  (9999, 9098785)\t1\n",
      "  (9999, 9098795)\t1\n",
      "45950    negative\n",
      "6246     negative\n",
      "33571    positive\n",
      "6552     positive\n",
      "45774    positive\n",
      "           ...   \n",
      "30582    positive\n",
      "41328    positive\n",
      "30809    positive\n",
      "28858    positive\n",
      "32791    negative\n",
      "Name: sentiment, Length: 10000, dtype: object\n"
     ]
    }
   ],
   "source": [
    "review = df['review']\n",
    "\n",
    "stop_words = ['in', 'of', 'at', 'a', 'the']\n",
    "ngram_vectorizer = CountVectorizer(binary=True, ngram_range=(1, 3), stop_words=stop_words)\n",
    "ngram_vectorizer.fit(review)\n",
    "X = ngram_vectorizer.transform(review)\n",
    "\n",
    "X_train, X_test, y_train, y_test = train_test_split(\n",
    "    X, y, train_size = 0.8\n",
    ")\n",
    "\n",
    "X_train, X_val, y_train, y_val = train_test_split(\n",
    "    X_train, y_train, train_size = 0.8\n",
    ")\n",
    "\n",
    "print(X_train)\n",
    "print(y_train)\n",
    "print(X_val)\n",
    "print(y_val)\n",
    "print(X_test)\n",
    "print(y_test)"
   ]
  },
  {
   "cell_type": "code",
   "execution_count": 6,
   "metadata": {},
   "outputs": [
    {
     "output_type": "stream",
     "name": "stdout",
     "text": [
      "Accuracy for C=0.1: 0.90225\n"
     ]
    }
   ],
   "source": [
    "svm = LinearSVC(C=0.1)\n",
    "svm.fit(X_train, y_train)\n",
    "print (\"Accuracy for C=%s: %s\" % (0.1, accuracy_score(y_val, svm.predict(X_val))))"
   ]
  },
  {
   "cell_type": "code",
   "execution_count": 7,
   "metadata": {},
   "outputs": [
    {
     "output_type": "stream",
     "name": "stdout",
     "text": [
      "Accuracy for C=0.1: 0.901\n"
     ]
    }
   ],
   "source": [
    "svm1 = LinearSVC(C=0.1)\n",
    "svm1.fit(X_train, y_train)\n",
    "print (\"Accuracy for C=%s: %s\" % (0.1, accuracy_score(y_test, svm1.predict(X_test))))"
   ]
  },
  {
   "cell_type": "code",
   "execution_count": null,
   "metadata": {},
   "outputs": [],
   "source": []
  }
 ],
 "metadata": {
  "kernelspec": {
   "display_name": "Python 3",
   "language": "python",
   "name": "python3"
  },
  "language_info": {
   "codemirror_mode": {
    "name": "ipython",
    "version": 3
   },
   "file_extension": ".py",
   "mimetype": "text/x-python",
   "name": "python",
   "nbconvert_exporter": "python",
   "pygments_lexer": "ipython3",
   "version": "3.8.3-final"
  }
 },
 "nbformat": 4,
 "nbformat_minor": 4
}
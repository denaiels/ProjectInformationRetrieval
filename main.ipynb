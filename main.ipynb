{
 "cells": [
  {
   "cell_type": "markdown",
   "metadata": {},
   "source": [
    "<h1>Project Computer Vision Lecture</h1>\n",
    "<h2>Title: Movie Review Sentiment Analysis</h2>\n",
    "\n",
    "1. Daniel Santoso / 2201756506\n",
    "2. Boban Nathaniel Seputra / 2201762540\n",
    "3. Luwis Lim / 2201761771\n",
    "4. Steven Odolf Yuwono / 2201758045"
   ]
  },
  {
   "cell_type": "code",
   "execution_count": 1,
   "metadata": {},
   "outputs": [],
   "source": [
    "import pandas as pd\n",
    "import numpy as np\n",
    "\n",
    "from sklearn.feature_extraction.text import CountVectorizer\n",
    "from sklearn.model_selection import train_test_split\n",
    "from sklearn.metrics import accuracy_score\n",
    "from sklearn.svm import LinearSVC"
   ]
  },
  {
   "cell_type": "code",
   "execution_count": 2,
   "metadata": {},
   "outputs": [
    {
     "output_type": "stream",
     "name": "stdout",
     "text": [
      "False\n                                                  review sentiment\n0      One of the other reviewers has mentioned that ...  positive\n1      A wonderful little production. <br /><br />The...  positive\n2      I thought this was a wonderful way to spend ti...  positive\n3      Basically there's a family where a little boy ...  negative\n4      Petter Mattei's \"Love in the Time of Money\" is...  positive\n...                                                  ...       ...\n49995  I thought this movie did a down right good job...  positive\n49996  Bad plot, bad dialogue, bad acting, idiotic di...  negative\n49997  I am a Catholic taught in parochial elementary...  negative\n49998  I'm going to have to disagree with the previou...  negative\n49999  No one expects the Star Trek movies to be high...  negative\n\n[50000 rows x 2 columns]\n"
     ]
    }
   ],
   "source": [
    "df = pd.read_csv('IMDB Dataset.csv', delimiter=',')\n",
    "print(df.isnull().values.any())\n",
    "\n",
    "y = df.sentiment\n",
    "\n",
    "print(df)"
   ]
  },
  {
   "cell_type": "code",
   "execution_count": 3,
   "metadata": {},
   "outputs": [
    {
     "output_type": "stream",
     "name": "stdout",
     "text": [
      "                                                  review sentiment\n0      one of the other reviewers has mentioned that ...  positive\n1      a wonderful little production. <br /><br />the...  positive\n2      i thought this was a wonderful way to spend ti...  positive\n3      basically there's a family where a little boy ...  negative\n4      petter mattei's \"love in the time of money\" is...  positive\n...                                                  ...       ...\n49995  i thought this movie did a down right good job...  positive\n49996  bad plot, bad dialogue, bad acting, idiotic di...  negative\n49997  i am a catholic taught in parochial elementary...  negative\n49998  i'm going to have to disagree with the previou...  negative\n49999  no one expects the star trek movies to be high...  negative\n\n[50000 rows x 2 columns]\n"
     ]
    }
   ],
   "source": [
    "df['review'] = df['review'].str.lower()\n",
    "print(df)"
   ]
  },
  {
   "cell_type": "code",
   "execution_count": 4,
   "metadata": {},
   "outputs": [
    {
     "output_type": "stream",
     "name": "stdout",
     "text": [
      "                                                  review sentiment\n0      one of the other reviewers has mentioned that ...  positive\n1      a wonderful little production  the filming tec...  positive\n2      i thought this was a wonderful way to spend ti...  positive\n3      basically theres a family where a little boy j...  negative\n4      petter matteis love in the time of money is a ...  positive\n...                                                  ...       ...\n49995  i thought this movie did a down right good job...  positive\n49996  bad plot bad dialogue bad acting idiotic direc...  negative\n49997  i am a catholic taught in parochial elementary...  negative\n49998  im going to have to disagree with the previous...  negative\n49999  no one expects the star trek movies to be high...  negative\n\n[50000 rows x 2 columns]\n"
     ]
    }
   ],
   "source": [
    "# Remove numbers and punctuation\n",
    "\n",
    "import re\n",
    "\n",
    "REPLACE_NO_SPACE = re.compile(\"[.;:!\\'?,\\\"()\\[\\]]\")\n",
    "REPLACE_WITH_SPACE = re.compile(\"(<br\\s*/><br\\s*/>)|(\\-)|(\\/)\")\n",
    "\n",
    "def preprocess_reviews(reviews):\n",
    "    reviews = [REPLACE_NO_SPACE.sub(\"\", line.lower()) for line in reviews]\n",
    "    reviews = [REPLACE_WITH_SPACE.sub(\" \", line) for line in reviews]\n",
    "    \n",
    "    return reviews\n",
    "\n",
    "df['review'] = df['review'].apply(lambda x: re.sub(r\"\\d+\", \"\", x))\n",
    "df['review'] = preprocess_reviews(df['review'])\n",
    "print(df)"
   ]
  },
  {
   "cell_type": "code",
   "execution_count": 6,
   "metadata": {},
   "outputs": [
    {
     "output_type": "stream",
     "name": "stdout",
     "text": [
      "  (0, 40174)\t1\n  (0, 42082)\t1\n  (0, 42086)\t1\n  (0, 92492)\t1\n  (0, 93529)\t1\n  (0, 93537)\t1\n  (0, 98030)\t1\n  (0, 98031)\t1\n  (0, 144871)\t1\n  (0, 145024)\t1\n  (0, 145025)\t1\n  (0, 181329)\t1\n  (0, 181563)\t1\n  (0, 181566)\t1\n  (0, 181730)\t1\n  (0, 181735)\t1\n  (0, 212164)\t1\n  (0, 212845)\t1\n  (0, 212925)\t1\n  (0, 269740)\t1\n  (0, 270528)\t1\n  (0, 270537)\t1\n  (0, 284317)\t1\n  (0, 284320)\t1\n  (0, 324962)\t1\n  :\t:\n  (31999, 9068260)\t1\n  (31999, 9070608)\t1\n  (31999, 9076591)\t1\n  (31999, 9076712)\t1\n  (31999, 9173112)\t1\n  (31999, 9178387)\t1\n  (31999, 9178483)\t1\n  (31999, 9193924)\t1\n  (31999, 9213145)\t1\n  (31999, 9213248)\t1\n  (31999, 9214350)\t1\n  (31999, 9218171)\t1\n  (31999, 9218174)\t1\n  (31999, 9472208)\t1\n  (31999, 9472519)\t1\n  (31999, 9472681)\t1\n  (31999, 9576979)\t1\n  (31999, 9584044)\t1\n  (31999, 9584049)\t1\n  (31999, 9586993)\t1\n  (31999, 9587645)\t1\n  (31999, 9588083)\t1\n  (31999, 9588087)\t1\n  (31999, 9595728)\t1\n  (31999, 9596185)\t1\n27754    negative\n4975     positive\n48690    negative\n34358    negative\n45873    positive\n           ...   \n5457     positive\n42297    positive\n30047    negative\n47806    negative\n16691    positive\nName: sentiment, Length: 32000, dtype: object\n  (0, 107269)\t1\n  (0, 108772)\t1\n  (0, 108773)\t1\n  (0, 212164)\t1\n  (0, 231779)\t1\n  (0, 231780)\t1\n  (0, 366684)\t1\n  (0, 391101)\t1\n  (0, 391115)\t1\n  (0, 559405)\t1\n  (0, 559419)\t1\n  (0, 684474)\t1\n  (0, 708996)\t1\n  (0, 709066)\t1\n  (0, 921886)\t1\n  (0, 932943)\t1\n  (0, 933020)\t1\n  (0, 1059659)\t1\n  (0, 1067599)\t1\n  (0, 1067756)\t1\n  (0, 1367012)\t1\n  (0, 1367158)\t1\n  (0, 1613752)\t1\n  (0, 1615552)\t1\n  (0, 1615555)\t1\n  :\t:\n  (7999, 9286090)\t1\n  (7999, 9289823)\t1\n  (7999, 9292095)\t1\n  (7999, 9292105)\t1\n  (7999, 9342644)\t1\n  (7999, 9342645)\t1\n  (7999, 9342646)\t1\n  (7999, 9353070)\t1\n  (7999, 9399684)\t1\n  (7999, 9399685)\t1\n  (7999, 9427613)\t1\n  (7999, 9427619)\t1\n  (7999, 9427620)\t1\n  (7999, 9466757)\t1\n  (7999, 9466768)\t1\n  (7999, 9466770)\t1\n  (7999, 9466821)\t1\n  (7999, 9466830)\t1\n  (7999, 9466831)\t1\n  (7999, 9524465)\t1\n  (7999, 9524480)\t1\n  (7999, 9524483)\t1\n  (7999, 9623359)\t1\n  (7999, 9625607)\t1\n  (7999, 9625608)\t1\n12629    negative\n35291    negative\n11831    positive\n574      negative\n25352    negative\n           ...   \n32952    negative\n28969    positive\n26224    positive\n10875    negative\n45157    positive\nName: sentiment, Length: 8000, dtype: object\n  (0, 70717)\t1\n  (0, 78931)\t1\n  (0, 79067)\t1\n  (0, 105070)\t1\n  (0, 106100)\t1\n  (0, 106101)\t1\n  (0, 107269)\t1\n  (0, 112518)\t1\n  (0, 112519)\t1\n  (0, 127953)\t1\n  (0, 127981)\t1\n  (0, 127982)\t1\n  (0, 164849)\t1\n  (0, 168874)\t1\n  (0, 168883)\t1\n  (0, 212164)\t1\n  (0, 216700)\t1\n  (0, 216704)\t1\n  (0, 253327)\t1\n  (0, 255642)\t1\n  (0, 255643)\t1\n  (0, 269740)\t1\n  (0, 281746)\t1\n  (0, 281749)\t1\n  (0, 284655)\t1\n  :\t:\n  (9999, 9353070)\t1\n  (9999, 9355120)\t1\n  (9999, 9355130)\t1\n  (9999, 9365682)\t1\n  (9999, 9365687)\t1\n  (9999, 9365706)\t1\n  (9999, 9438617)\t1\n  (9999, 9438966)\t1\n  (9999, 9438967)\t1\n  (9999, 9496050)\t1\n  (9999, 9496264)\t1\n  (9999, 9496269)\t1\n  (9999, 9533315)\t1\n  (9999, 9534309)\t1\n  (9999, 9534311)\t1\n  (9999, 9576979)\t1\n  (9999, 9578112)\t1\n  (9999, 9578355)\t1\n  (9999, 9586610)\t1\n  (9999, 9586611)\t1\n  (9999, 9586993)\t1\n  (9999, 9587417)\t1\n  (9999, 9603333)\t1\n  (9999, 9604283)\t1\n  (9999, 9604289)\t1\n28310    negative\n27250    negative\n10959    positive\n44660    positive\n36208    negative\n           ...   \n28773    negative\n15098    negative\n2140     negative\n1929     negative\n7326     positive\nName: sentiment, Length: 10000, dtype: object\n"
     ]
    }
   ],
   "source": [
    "review = df['review']\n",
    "\n",
    "stop_words = ['in', 'of', 'at', 'a', 'the']\n",
    "ngram_vectorizer = CountVectorizer(binary=True, ngram_range=(1, 3), stop_words=stop_words)\n",
    "ngram_vectorizer.fit(review)\n",
    "X = ngram_vectorizer.transform(review)\n",
    "\n",
    "X_train, X_test, y_train, y_test = train_test_split(\n",
    "    X, y, train_size = 0.8\n",
    ")\n",
    "\n",
    "X_train, X_val, y_train, y_val = train_test_split(\n",
    "    X_train, y_train, train_size = 0.8\n",
    ")\n",
    "\n",
    "print(X_train)\n",
    "print(y_train)\n",
    "print(X_val)\n",
    "print(y_val)\n",
    "print(X_test)\n",
    "print(y_test)"
   ]
  },
  {
   "cell_type": "code",
   "execution_count": 7,
   "metadata": {},
   "outputs": [
    {
     "output_type": "stream",
     "name": "stdout",
     "text": [
      "Accuracy for C=0.1: 0.90725\n"
     ]
    }
   ],
   "source": [
    "svm = LinearSVC(C=0.1)\n",
    "svm.fit(X_train, y_train)\n",
    "print (\"Accuracy for C=%s: %s\" % (0.1, accuracy_score(y_val, svm.predict(X_val))))"
   ]
  },
  {
   "cell_type": "code",
   "execution_count": 9,
   "metadata": {},
   "outputs": [
    {
     "output_type": "stream",
     "name": "stdout",
     "text": [
      "Accuracy for C=0.1: 0.9028\n"
     ]
    }
   ],
   "source": [
    "# svm1 = LinearSVC(C=0.1)\n",
    "# svm1.fit(X_train, y_train)\n",
    "print (\"Accuracy for C=%s: %s\" % (0.1, accuracy_score(y_test, svm.predict(X_test))))"
   ]
  },
  {
   "cell_type": "code",
   "execution_count": null,
   "metadata": {},
   "outputs": [],
   "source": []
  }
 ],
 "metadata": {
  "kernelspec": {
   "display_name": "Python 3",
   "language": "python",
   "name": "python3"
  },
  "language_info": {
   "codemirror_mode": {
    "name": "ipython",
    "version": 3
   },
   "file_extension": ".py",
   "mimetype": "text/x-python",
   "name": "python",
   "nbconvert_exporter": "python",
   "pygments_lexer": "ipython3",
   "version": "3.8.3-final"
  }
 },
 "nbformat": 4,
 "nbformat_minor": 4
}